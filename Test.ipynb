{
 "cells": [
  {
   "cell_type": "code",
   "execution_count": 42,
   "metadata": {
    "collapsed": false
   },
   "outputs": [],
   "source": [
    "import twitter\n",
    "import requests\n",
    "from mpl_toolkits.mplot3d import Axes3D\n",
    "from mpl_toolkits.mplot3d.art3d import Poly3DCollection\n",
    "import matplotlib.pyplot as plt\n",
    "import numpy as np"
   ]
  },
  {
   "cell_type": "code",
   "execution_count": 2,
   "metadata": {
    "collapsed": true
   },
   "outputs": [],
   "source": [
    "class Twitter(object):\n",
    "    def __init__(self):\n",
    "        consumer_key = 'LFTXnbNVhCtLV2T2dG0yA'\n",
    "        consumer_secret = '2DX6L81tUHP8Clxz8FvuXcaMvHTAXuUkXbzz7y6U'\n",
    "        access_token = '77452634-avWq03PwpORlOtKoa4ctg082fTdFlBbKT0ihC8XZw'\n",
    "        access_token_secret = 'cnopinzlsPRi6zBOMGdAVf0EuMM97eCQF5UPoyTyY'\n",
    "\n",
    "        self.api = twitter.Api(consumer_key=consumer_key,\n",
    "                               consumer_secret=consumer_secret,\n",
    "                               access_token_key=access_token,\n",
    "                               access_token_secret=access_token_secret)\n",
    "        \n",
    "    def get_tweet(self, id):\n",
    "        return self.api.GetStatus(id).AsDict()"
   ]
  },
  {
   "cell_type": "code",
   "execution_count": 3,
   "metadata": {
    "collapsed": true
   },
   "outputs": [],
   "source": [
    "def get_geoname_data(geoname):\n",
    "    return requests.get(u'http://api.geonames.org/postalCodeSearchJSON?placename={0}&maxRows=100&username=demo&style=FULL'.format(geoname)).json()"
   ]
  },
  {
   "cell_type": "code",
   "execution_count": 60,
   "metadata": {
    "collapsed": false
   },
   "outputs": [],
   "source": [
    "polygone = {\n",
    "    'point': [(2.5454, 51.0891, 5), (8.2306, 48.96722, 5), (2.5328, 42.3327, 5), (-4.79556, 48.41278, 5)]\n",
    "}"
   ]
  },
  {
   "cell_type": "code",
   "execution_count": 65,
   "metadata": {
    "collapsed": false
   },
   "outputs": [],
   "source": [
    "def make_graph(polygones):\n",
    "    fig = plt.figure()\n",
    "    ax = Axes3D(fig)\n",
    "    \n",
    "    minx= 0\n",
    "    maxx= 0\n",
    "    miny = 0\n",
    "    maxy = 0\n",
    "    minz = 0\n",
    "    maxz = 0\n",
    "    \n",
    "    for poly in polygones:\n",
    "        x = [p[0] for p in poly['point']]\n",
    "        y = [p[1] for p in poly['point']]\n",
    "        z = [p[2] for p in poly['point']]\n",
    "        \n",
    "        minx= min([minx, min(x)])\n",
    "        maxx= max([maxx, max(x)])\n",
    "        miny = min([miny, min(y)])\n",
    "        maxy = max([maxy, max(y)])\n",
    "        minz = min([minz, min(z)])\n",
    "        maxz = max([maxz, max(z)])\n",
    "    \n",
    "        verts = [zip(x, y,z)]\n",
    "        ax.add_collection3d(Poly3DCollection(verts))\n",
    "        \n",
    "    ax.set_xlim3d(minx, maxx)\n",
    "    ax.set_ylim3d(miny, maxy)\n",
    "    ax.set_zlim3d(minz, maxz)\n",
    "    plt.show()"
   ]
  },
  {
   "cell_type": "code",
   "execution_count": null,
   "metadata": {
    "collapsed": true
   },
   "outputs": [],
   "source": []
  }
 ],
 "metadata": {
  "kernelspec": {
   "display_name": "Python 2",
   "language": "python",
   "name": "python2"
  },
  "language_info": {
   "codemirror_mode": {
    "name": "ipython",
    "version": 2
   },
   "file_extension": ".py",
   "mimetype": "text/x-python",
   "name": "python",
   "nbconvert_exporter": "python",
   "pygments_lexer": "ipython2",
   "version": "2.7.9"
  }
 },
 "nbformat": 4,
 "nbformat_minor": 0
}
