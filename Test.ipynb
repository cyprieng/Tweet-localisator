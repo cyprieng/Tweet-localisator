{
 "cells": [
  {
   "cell_type": "code",
   "execution_count": 14,
   "metadata": {
    "collapsed": false
   },
   "outputs": [],
   "source": [
    "import twitter\n",
    "import requests\n",
    "from mpl_toolkits.mplot3d import Axes3D\n",
    "from mpl_toolkits.mplot3d.art3d import Poly3DCollection\n",
    "import matplotlib.pyplot as plt\n",
    "import numpy as np\n",
    "from copy import deepcopy\n",
    "from matplotlib.path import Path"
   ]
  },
  {
   "cell_type": "code",
   "execution_count": 2,
   "metadata": {
    "collapsed": true
   },
   "outputs": [],
   "source": [
    "class Twitter(object):\n",
    "    def __init__(self):\n",
    "        consumer_key = 'LFTXnbNVhCtLV2T2dG0yA'\n",
    "        consumer_secret = '2DX6L81tUHP8Clxz8FvuXcaMvHTAXuUkXbzz7y6U'\n",
    "        access_token = '77452634-avWq03PwpORlOtKoa4ctg082fTdFlBbKT0ihC8XZw'\n",
    "        access_token_secret = 'cnopinzlsPRi6zBOMGdAVf0EuMM97eCQF5UPoyTyY'\n",
    "\n",
    "        self.api = twitter.Api(consumer_key=consumer_key,\n",
    "                               consumer_secret=consumer_secret,\n",
    "                               access_token_key=access_token,\n",
    "                               access_token_secret=access_token_secret)\n",
    "        \n",
    "    def get_tweet(self, id):\n",
    "        return self.api.GetStatus(id).AsDict()"
   ]
  },
  {
   "cell_type": "code",
   "execution_count": 3,
   "metadata": {
    "collapsed": true
   },
   "outputs": [],
   "source": [
    "def get_geoname_data(geoname):\n",
    "    return requests.get(u'http://api.geonames.org/postalCodeSearchJSON?placename={0}&maxRows=100&username=demo&style=FULL'.format(geoname)).json()"
   ]
  },
  {
   "cell_type": "code",
   "execution_count": 70,
   "metadata": {
    "collapsed": true
   },
   "outputs": [],
   "source": [
    "polygone = {\n",
    "    'point': [(0., 0., 5.), (1., 0., 5.), (1., 1., 5.), (0., 1., 5.)]\n",
    "}\n",
    "\n",
    "polygone2 = {\n",
    "    'point': [(0.5, 0.5, 5.), (0.75, 0.5, 5.), (0.75, 0.75, 5.), (0.5, 0.75, 5.)]\n",
    "}"
   ]
  },
  {
   "cell_type": "code",
   "execution_count": 71,
   "metadata": {
    "collapsed": false
   },
   "outputs": [],
   "source": [
    "def make_graph(polygones):\n",
    "    fig = plt.figure()\n",
    "    ax = Axes3D(fig)\n",
    "    \n",
    "    x = []\n",
    "    y = []\n",
    "    z = []\n",
    "    for poly in polygones:\n",
    "        for point in poly['point']:\n",
    "            x.append(point[0])\n",
    "            y.append(point[1])\n",
    "            z_temp = point[2]\n",
    "            \n",
    "            for poly2 in polygones:\n",
    "                if not poly2 == poly:\n",
    "                    if Path([[p[0], p[1]] for p in poly2['point']]).contains_point([point[0], point[1]]):\n",
    "                        z_temp += poly2['point'][0][2]\n",
    "            z.append(z_temp)\n",
    "        \n",
    "    ax.plot_trisurf(x, y, z)\n",
    "        \n",
    "    ax.set_xlim3d(min(x), max(x))\n",
    "    ax.set_ylim3d(min(y), max(y))\n",
    "    ax.set_zlim3d(min(z), max(z))\n",
    "    plt.show()"
   ]
  },
  {
   "cell_type": "code",
   "execution_count": 72,
   "metadata": {
    "collapsed": false
   },
   "outputs": [],
   "source": [
    "make_graph([polygone, polygone2])"
   ]
  },
  {
   "cell_type": "code",
   "execution_count": null,
   "metadata": {
    "collapsed": true
   },
   "outputs": [],
   "source": [
    "def determinate_tweet_localisation(tweet):\n",
    "    # Get area by geoname in tweet\n",
    "    \n",
    "    # Get area by timezone\n",
    "    \n",
    "    # Get area by user localisation in profile\n",
    "    \n",
    "    # Get area by user bio"
   ]
  },
  {
   "cell_type": "code",
   "execution_count": null,
   "metadata": {
    "collapsed": true
   },
   "outputs": [],
   "source": []
  }
 ],
 "metadata": {
  "kernelspec": {
   "display_name": "Python 3",
   "language": "python",
   "name": "python3"
  },
  "language_info": {
   "codemirror_mode": {
    "name": "ipython",
    "version": 3
   },
   "file_extension": ".py",
   "mimetype": "text/x-python",
   "name": "python",
   "nbconvert_exporter": "python",
   "pygments_lexer": "ipython3",
   "version": "3.4.3"
  }
 },
 "nbformat": 4,
 "nbformat_minor": 0
}
