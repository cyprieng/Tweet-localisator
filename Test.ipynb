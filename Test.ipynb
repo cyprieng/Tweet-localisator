{
 "cells": [
  {
   "cell_type": "code",
   "execution_count": 1,
   "metadata": {
    "collapsed": false
   },
   "outputs": [],
   "source": [
    "from twitter import *\n",
    "import requests\n",
    "from mpl_toolkits.mplot3d import Axes3D\n",
    "from mpl_toolkits.mplot3d.art3d import Poly3DCollection\n",
    "import matplotlib.pyplot as plt\n",
    "import numpy as np\n",
    "from copy import deepcopy\n",
    "from matplotlib.path import Path"
   ]
  },
  {
   "cell_type": "code",
   "execution_count": 23,
   "metadata": {
    "collapsed": true
   },
   "outputs": [],
   "source": [
    "class TwitterCustom(object):\n",
    "    def __init__(self):\n",
    "        consumer_key = 'LFTXnbNVhCtLV2T2dG0yA'\n",
    "        consumer_secret = '2DX6L81tUHP8Clxz8FvuXcaMvHTAXuUkXbzz7y6U'\n",
    "        access_token = '77452634-avWq03PwpORlOtKoa4ctg082fTdFlBbKT0ihC8XZw'\n",
    "        access_token_secret = 'cnopinzlsPRi6zBOMGdAVf0EuMM97eCQF5UPoyTyY'\n",
    "\n",
    "        self.api = Twitter(auth=OAuth(access_token, access_token_secret, consumer_key, consumer_secret))\n",
    "        \n",
    "    def get_tweet(self, id):\n",
    "        return self.api.statuses.show(_id=724694725601669120)"
   ]
  },
  {
   "cell_type": "code",
   "execution_count": 84,
   "metadata": {
    "collapsed": true
   },
   "outputs": [],
   "source": [
    "def get_geoname_data(geoname):\n",
    "    return requests.get(u'http://api.geonames.org/postalCodeSearchJSON?placename={0}&maxRows=100&username=demo&style=FULL'.format(geoname)).json()"
   ]
  },
  {
   "cell_type": "code",
   "execution_count": 85,
   "metadata": {
    "collapsed": true
   },
   "outputs": [],
   "source": [
    "polygone = {\n",
    "    'point': [(0., 0., 5.), (1., 0., 5.), (1., 1., 5.), (0., 1., 5.)]\n",
    "}\n",
    "\n",
    "polygone2 = {\n",
    "    'point': [(0.5, 0.5, 5.), (0.75, 0.5, 5.), (0.75, 0.75, 5.), (0.5, 0.75, 5.)]\n",
    "}"
   ]
  },
  {
   "cell_type": "code",
   "execution_count": 86,
   "metadata": {
    "collapsed": false
   },
   "outputs": [],
   "source": [
    "def make_graph(polygones):\n",
    "    fig = plt.figure()\n",
    "    ax = Axes3D(fig)\n",
    "    \n",
    "    x = []\n",
    "    y = []\n",
    "    z = []\n",
    "    for poly in polygones:\n",
    "        for point in poly['point']:\n",
    "            x.append(point[0])\n",
    "            y.append(point[1])\n",
    "            z_temp = point[2]\n",
    "            \n",
    "            for poly2 in polygones:\n",
    "                if not poly2 == poly:\n",
    "                    if Path([[p[0], p[1]] for p in poly2['point']]).contains_point([point[0], point[1]]):\n",
    "                        z_temp += poly2['point'][0][2]\n",
    "            z.append(z_temp)\n",
    "        \n",
    "    ax.plot_trisurf(x, y, z)\n",
    "        \n",
    "    ax.set_xlim3d(min(x), max(x))\n",
    "    ax.set_ylim3d(min(y), max(y))\n",
    "    ax.set_zlim3d(min(z), max(z))\n",
    "    plt.show()"
   ]
  },
  {
   "cell_type": "code",
   "execution_count": 87,
   "metadata": {
    "collapsed": false
   },
   "outputs": [],
   "source": [
    "make_graph([polygone, polygone2])"
   ]
  },
  {
   "cell_type": "code",
   "execution_count": 74,
   "metadata": {
    "collapsed": false
   },
   "outputs": [],
   "source": [
    "def determinate_tweet_localisation(tweet):\n",
    "    # Get area by geoname in tweet\n",
    "    \n",
    "    # Get area by timezone\n",
    "    \n",
    "    # Get area by user localisation in profile\n",
    "    \n",
    "    # Get area by user bio\n",
    "    a = \"\""
   ]
  },
  {
   "cell_type": "code",
   "execution_count": 75,
   "metadata": {
    "collapsed": true
   },
   "outputs": [],
   "source": [
    "def get_tweet_localisation(tweet_id):\n",
    "    t = Twitter()\n",
    "    return determinate_tweet_localisation(t.get_tweet(tweet_id))"
   ]
  },
  {
   "cell_type": "code",
   "execution_count": 24,
   "metadata": {
    "collapsed": false
   },
   "outputs": [],
   "source": [
    "t = TwitterCustom()\n",
    "tweet = t.get_tweet('724694725601669120')"
   ]
  },
  {
   "cell_type": "code",
   "execution_count": 25,
   "metadata": {
    "collapsed": false
   },
   "outputs": [
    {
     "data": {
      "text/plain": [
       "{'contributors': None,\n",
       " 'coordinates': None,\n",
       " 'created_at': 'Mon Apr 25 20:21:01 +0000 2016',\n",
       " 'entities': {'hashtags': [],\n",
       "  'media': [{'display_url': 'pic.twitter.com/lkd3N2szkA',\n",
       "    'expanded_url': 'http://twitter.com/cyprien_g/status/724694725601669120/photo/1',\n",
       "    'id': 724694698489729025,\n",
       "    'id_str': '724694698489729025',\n",
       "    'indices': [32, 55],\n",
       "    'media_url': 'http://pbs.twimg.com/media/Cg6h_RoW0AEMtZh.jpg',\n",
       "    'media_url_https': 'https://pbs.twimg.com/media/Cg6h_RoW0AEMtZh.jpg',\n",
       "    'sizes': {'large': {'h': 1820, 'resize': 'fit', 'w': 1024},\n",
       "     'medium': {'h': 1067, 'resize': 'fit', 'w': 600},\n",
       "     'small': {'h': 604, 'resize': 'fit', 'w': 340},\n",
       "     'thumb': {'h': 150, 'resize': 'crop', 'w': 150}},\n",
       "    'type': 'photo',\n",
       "    'url': 'https://t.co/lkd3N2szkA'}],\n",
       "  'symbols': [],\n",
       "  'urls': [],\n",
       "  'user_mentions': []},\n",
       " 'extended_entities': {'media': [{'display_url': 'pic.twitter.com/lkd3N2szkA',\n",
       "    'expanded_url': 'http://twitter.com/cyprien_g/status/724694725601669120/photo/1',\n",
       "    'id': 724694698489729025,\n",
       "    'id_str': '724694698489729025',\n",
       "    'indices': [32, 55],\n",
       "    'media_url': 'http://pbs.twimg.com/media/Cg6h_RoW0AEMtZh.jpg',\n",
       "    'media_url_https': 'https://pbs.twimg.com/media/Cg6h_RoW0AEMtZh.jpg',\n",
       "    'sizes': {'large': {'h': 1820, 'resize': 'fit', 'w': 1024},\n",
       "     'medium': {'h': 1067, 'resize': 'fit', 'w': 600},\n",
       "     'small': {'h': 604, 'resize': 'fit', 'w': 340},\n",
       "     'thumb': {'h': 150, 'resize': 'crop', 'w': 150}},\n",
       "    'type': 'photo',\n",
       "    'url': 'https://t.co/lkd3N2szkA'}]},\n",
       " 'favorite_count': 0,\n",
       " 'favorited': False,\n",
       " 'geo': None,\n",
       " 'id': 724694725601669120,\n",
       " 'id_str': '724694725601669120',\n",
       " 'in_reply_to_screen_name': None,\n",
       " 'in_reply_to_status_id': None,\n",
       " 'in_reply_to_status_id_str': None,\n",
       " 'in_reply_to_user_id': None,\n",
       " 'in_reply_to_user_id_str': None,\n",
       " 'is_quote_status': False,\n",
       " 'lang': 'fr',\n",
       " 'place': None,\n",
       " 'possibly_sensitive': False,\n",
       " 'possibly_sensitive_appealable': False,\n",
       " 'retweet_count': 0,\n",
       " 'retweeted': False,\n",
       " 'source': '<a href=\"http://twitter.com/download/android\" rel=\"nofollow\">Twitter for Android</a>',\n",
       " 'text': \"C'est sympa Sosh en plein Paris https://t.co/lkd3N2szkA\",\n",
       " 'truncated': False,\n",
       " 'user': {'contributors_enabled': False,\n",
       "  'created_at': 'Sat Sep 26 11:20:25 +0000 2009',\n",
       "  'default_profile': False,\n",
       "  'default_profile_image': False,\n",
       "  'description': 'Etudiant à @UTTroyes &amp; @OlinCollege en Informatique. Running, foot @Arsenal, hockey...',\n",
       "  'entities': {'description': {'urls': []}},\n",
       "  'favourites_count': 1774,\n",
       "  'follow_request_sent': False,\n",
       "  'followers_count': 356,\n",
       "  'following': False,\n",
       "  'friends_count': 536,\n",
       "  'geo_enabled': False,\n",
       "  'has_extended_profile': False,\n",
       "  'id': 77452634,\n",
       "  'id_str': '77452634',\n",
       "  'is_translation_enabled': False,\n",
       "  'is_translator': False,\n",
       "  'lang': 'fr',\n",
       "  'listed_count': 14,\n",
       "  'location': 'Paris | Troyes | Boston',\n",
       "  'name': 'Cyprien G',\n",
       "  'notifications': False,\n",
       "  'profile_background_color': 'B9C9E0',\n",
       "  'profile_background_image_url': 'http://pbs.twimg.com/profile_background_images/378800000116664190/f28c8c72d21857a772bf57c0537cd3e4.png',\n",
       "  'profile_background_image_url_https': 'https://pbs.twimg.com/profile_background_images/378800000116664190/f28c8c72d21857a772bf57c0537cd3e4.png',\n",
       "  'profile_background_tile': True,\n",
       "  'profile_banner_url': 'https://pbs.twimg.com/profile_banners/77452634/1423157249',\n",
       "  'profile_image_url': 'http://pbs.twimg.com/profile_images/1177544673/avatar_normal.png',\n",
       "  'profile_image_url_https': 'https://pbs.twimg.com/profile_images/1177544673/avatar_normal.png',\n",
       "  'profile_link_color': 'EE1069',\n",
       "  'profile_sidebar_border_color': 'FFFFFF',\n",
       "  'profile_sidebar_fill_color': '000000',\n",
       "  'profile_text_color': '707070',\n",
       "  'profile_use_background_image': True,\n",
       "  'protected': False,\n",
       "  'screen_name': 'cyprien_g',\n",
       "  'statuses_count': 7317,\n",
       "  'time_zone': 'Paris',\n",
       "  'url': None,\n",
       "  'utc_offset': 7200,\n",
       "  'verified': False}}"
      ]
     },
     "execution_count": 25,
     "metadata": {},
     "output_type": "execute_result"
    }
   ],
   "source": [
    "tweet"
   ]
  }
 ],
 "metadata": {
  "kernelspec": {
   "display_name": "Python 3",
   "language": "python",
   "name": "python3"
  },
  "language_info": {
   "codemirror_mode": {
    "name": "ipython",
    "version": 3
   },
   "file_extension": ".py",
   "mimetype": "text/x-python",
   "name": "python",
   "nbconvert_exporter": "python",
   "pygments_lexer": "ipython3",
   "version": "3.4.3"
  }
 },
 "nbformat": 4,
 "nbformat_minor": 0
}
