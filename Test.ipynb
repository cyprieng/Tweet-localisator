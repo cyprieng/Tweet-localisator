{
 "cells": [
  {
   "cell_type": "code",
   "execution_count": 1,
   "metadata": {
    "collapsed": true
   },
   "outputs": [],
   "source": [
    "import twitter"
   ]
  },
  {
   "cell_type": "code",
   "execution_count": 23,
   "metadata": {
    "collapsed": true
   },
   "outputs": [],
   "source": [
    "class Twitter(object):\n",
    "    def __init__(self):\n",
    "        consumer_key = 'LFTXnbNVhCtLV2T2dG0yA'\n",
    "        consumer_secret = '2DX6L81tUHP8Clxz8FvuXcaMvHTAXuUkXbzz7y6U'\n",
    "        access_token = '77452634-avWq03PwpORlOtKoa4ctg082fTdFlBbKT0ihC8XZw'\n",
    "        access_token_secret = 'cnopinzlsPRi6zBOMGdAVf0EuMM97eCQF5UPoyTyY'\n",
    "\n",
    "        self.api = twitter.Api(consumer_key=consumer_key,\n",
    "                               consumer_secret=consumer_secret,\n",
    "                               access_token_key=access_token,\n",
    "                               access_token_secret=access_token_secret)\n",
    "        \n",
    "    def get_tweet(self, id):\n",
    "        return self.api.GetStatus(id).AsDict()"
   ]
  }
 ],
 "metadata": {
  "kernelspec": {
   "display_name": "Python 2",
   "language": "python",
   "name": "python2"
  },
  "language_info": {
   "codemirror_mode": {
    "name": "ipython",
    "version": 2
   },
   "file_extension": ".py",
   "mimetype": "text/x-python",
   "name": "python",
   "nbconvert_exporter": "python",
   "pygments_lexer": "ipython2",
   "version": "2.7.9"
  }
 },
 "nbformat": 4,
 "nbformat_minor": 0
}
